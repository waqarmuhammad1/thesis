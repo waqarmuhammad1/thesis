{
 "cells": [
  {
   "cell_type": "code",
   "execution_count": 1,
   "metadata": {},
   "outputs": [],
   "source": [
    "import cv2\n",
    "import numpy as np\n",
    "import pandas as pd\n",
    "import matplotlib.pyplot as plt\n",
    "%matplotlib inline\n",
    "import random\n",
    "import os\n",
    "import gc"
   ]
  },
  {
   "cell_type": "code",
   "execution_count": 2,
   "metadata": {},
   "outputs": [],
   "source": [
    "train_dir_0 = '/home/waqar/Documents/0_0/'\n",
    "train_dir_1 = '/home/waqar/Documents/1_0/'"
   ]
  },
  {
   "cell_type": "code",
   "execution_count": 3,
   "metadata": {},
   "outputs": [],
   "source": [
    "train_0 = ['/home/waqar/Documents/0_0/{}'.format(i) for i in os.listdir(train_dir_0)]\n",
    "train_1 = ['/home/waqar/Documents/1_0/{}'.format(i) for i in os.listdir(train_dir_1)]"
   ]
  },
  {
   "cell_type": "code",
   "execution_count": 4,
   "metadata": {},
   "outputs": [],
   "source": [
    "train_imgs = train_0[:500] + train_1[:500]\n",
    "random.shuffle(train_imgs)"
   ]
  },
  {
   "cell_type": "code",
   "execution_count": 5,
   "metadata": {},
   "outputs": [],
   "source": [
    "spare_imgs = train_0[501:] + train_1[501:]"
   ]
  },
  {
   "cell_type": "code",
   "execution_count": 6,
   "metadata": {},
   "outputs": [
    {
     "data": {
      "text/plain": [
       "'/home/waqar/Documents/0_0/714.png'"
      ]
     },
     "execution_count": 6,
     "metadata": {},
     "output_type": "execute_result"
    }
   ],
   "source": [
    "spare_imgs[0]"
   ]
  },
  {
   "cell_type": "code",
   "execution_count": 7,
   "metadata": {},
   "outputs": [],
   "source": [
    "from PIL import Image \n",
    "try: \n",
    "    o_count = 0\n",
    "    y_count = 0\n",
    "    for im in spare_imgs:\n",
    "        \n",
    "        #Relative Path \n",
    "        img = Image.open(im)  \n",
    "        \n",
    "        if '0_0' in im:\n",
    "            img.save('/home/waqar/Documents/t_0_0/{}.png'.format(o_count))\n",
    "            o_count+=1\n",
    "        elif '1_0' in im:\n",
    "            img.save('/home/waqar/Documents/t_1_0/{}.png'.format(y_count))\n",
    "            y_count+=1\n",
    "except IOError: \n",
    "    print(a)\n",
    "    pass"
   ]
  },
  {
   "cell_type": "code",
   "execution_count": null,
   "metadata": {},
   "outputs": [],
   "source": []
  },
  {
   "cell_type": "code",
   "execution_count": null,
   "metadata": {},
   "outputs": [],
   "source": []
  },
  {
   "cell_type": "code",
   "execution_count": null,
   "metadata": {},
   "outputs": [],
   "source": []
  },
  {
   "cell_type": "code",
   "execution_count": 8,
   "metadata": {},
   "outputs": [],
   "source": [
    "nrows = 150\n",
    "ncolumns = 150\n",
    "channel = 3"
   ]
  },
  {
   "cell_type": "code",
   "execution_count": 9,
   "metadata": {},
   "outputs": [],
   "source": [
    "X = [] #images\n",
    "Y = [] #Labels"
   ]
  },
  {
   "cell_type": "code",
   "execution_count": 10,
   "metadata": {},
   "outputs": [],
   "source": [
    "def read_and_process_image(list_of_images):\n",
    "    X = [] #images\n",
    "    Y = [] #labels\n",
    "    \n",
    "    for image in list_of_images:\n",
    "        X.append(cv2.resize(cv2.imread(image, cv2.IMREAD_COLOR), (nrows, ncolumns), interpolation=cv2.INTER_CUBIC))\n",
    "        \n",
    "        if '0_0' in image:\n",
    "            Y.append(0)\n",
    "        elif '1_0' in image:\n",
    "            Y.append(1)\n",
    "    return X, Y"
   ]
  },
  {
   "cell_type": "code",
   "execution_count": 11,
   "metadata": {},
   "outputs": [],
   "source": [
    "X, y = read_and_process_image(train_imgs)"
   ]
  },
  {
   "cell_type": "code",
   "execution_count": 12,
   "metadata": {},
   "outputs": [
    {
     "data": {
      "image/png": "[encoded data removed]",
      "text/plain": [
       "<Figure size 1440x720 with 5 Axes>"
      ]
     },
     "metadata": {
      "needs_background": "light"
     },
     "output_type": "display_data"
    }
   ],
   "source": [
    "plt.figure(figsize=(20,10))\n",
    "columns=5\n",
    "for i in range(columns):\n",
    "    plt.subplot(5/columns + 1, columns, i+1)\n",
    "    plt.imshow(X[i])"
   ]
  },
  {
   "cell_type": "code",
   "execution_count": 13,
   "metadata": {},
   "outputs": [],
   "source": [
    "X = np.array(X)\n",
    "y = np.array(y)"
   ]
  },
  {
   "cell_type": "code",
   "execution_count": 14,
   "metadata": {},
   "outputs": [
    {
     "name": "stdout",
     "output_type": "stream",
     "text": [
      "X shape (1000, 150, 150, 3)\n",
      "Y shape (1000,)\n"
     ]
    }
   ],
   "source": [
    "print('X shape {}'.format(X.shape))\n",
    "print('Y shape {}'.format(y.shape))"
   ]
  },
  {
   "cell_type": "code",
   "execution_count": 15,
   "metadata": {},
   "outputs": [],
   "source": [
    "from sklearn.model_selection import train_test_split"
   ]
  },
  {
   "cell_type": "code",
   "execution_count": 16,
   "metadata": {},
   "outputs": [
    {
     "name": "stdout",
     "output_type": "stream",
     "text": [
      "Shape of train images  (800, 150, 150, 3)\n",
      "Shape of validation images  (200, 150, 150, 3)\n",
      "Shape of label is  (800,)\n",
      "Shape of label is  (200,)\n"
     ]
    }
   ],
   "source": [
    "X_train, X_val, y_train, y_val = train_test_split(X, y, test_size=0.2, random_state=2)\n",
    "print('Shape of train images ',X_train.shape)\n",
    "print('Shape of validation images ', X_val.shape)\n",
    "print('Shape of label is ', y_train.shape)\n",
    "print('Shape of label is ', y_val.shape)"
   ]
  },
  {
   "cell_type": "code",
   "execution_count": 17,
   "metadata": {},
   "outputs": [],
   "source": [
    "ntrain = len(X_train)\n",
    "nval = len(X_val)\n",
    "\n",
    "batch_size = 32"
   ]
  },
  {
   "cell_type": "code",
   "execution_count": 18,
   "metadata": {},
   "outputs": [],
   "source": [
    "from keras import layers\n",
    "from keras import models\n",
    "from keras import optimizers\n",
    "from keras.preprocessing.image import ImageDataGenerator\n",
    "from keras.preprocessing.image import img_to_array, load_img"
   ]
  },
  {
   "cell_type": "code",
   "execution_count": 19,
   "metadata": {},
   "outputs": [],
   "source": [
    "model = models.Sequential()\n",
    "model.add(layers.Conv2D(32, (3,3), activation='relu', input_shape = (150,150,3)))\n",
    "model.add(layers.MaxPooling2D((2,2)))\n",
    "model.add(layers.Conv2D(64, (3,3), activation='relu'))\n",
    "model.add(layers.MaxPooling2D((2,2)))\n",
    "model.add(layers.Conv2D(128, (3,3), activation='relu'))\n",
    "model.add(layers.MaxPooling2D((2,2)))\n",
    "model.add(layers.Conv2D(128, (3,3), activation='relu'))\n",
    "model.add(layers.MaxPooling2D((2,2)))\n",
    "\n",
    "model.add(layers.Flatten())\n",
    "model.add(layers.Dropout(0.5))\n",
    "model.add(layers.Dense(512, activation='relu'))\n",
    "model.add(layers.Dense(1, activation='sigmoid'))"
   ]
  },
  {
   "cell_type": "code",
   "execution_count": 20,
   "metadata": {},
   "outputs": [
    {
     "name": "stdout",
     "output_type": "stream",
     "text": [
      "Model: \"sequential\"\n",
      "_________________________________________________________________\n",
      "Layer (type)                 Output Shape              Param #   \n",
      "=================================================================\n",
      "conv2d (Conv2D)              (None, 148, 148, 32)      896       \n",
      "_________________________________________________________________\n",
      "max_pooling2d (MaxPooling2D) (None, 74, 74, 32)        0         \n",
      "_________________________________________________________________\n",
      "conv2d_1 (Conv2D)            (None, 72, 72, 64)        18496     \n",
      "_________________________________________________________________\n",
      "max_pooling2d_1 (MaxPooling2 (None, 36, 36, 64)        0         \n",
      "_________________________________________________________________\n",
      "conv2d_2 (Conv2D)            (None, 34, 34, 128)       73856     \n",
      "_________________________________________________________________\n",
      "max_pooling2d_2 (MaxPooling2 (None, 17, 17, 128)       0         \n",
      "_________________________________________________________________\n",
      "conv2d_3 (Conv2D)            (None, 15, 15, 128)       147584    \n",
      "_________________________________________________________________\n",
      "max_pooling2d_3 (MaxPooling2 (None, 7, 7, 128)         0         \n",
      "_________________________________________________________________\n",
      "flatten (Flatten)            (None, 6272)              0         \n",
      "_________________________________________________________________\n",
      "dropout (Dropout)            (None, 6272)              0         \n",
      "_________________________________________________________________\n",
      "dense (Dense)                (None, 512)               3211776   \n",
      "_________________________________________________________________\n",
      "dense_1 (Dense)              (None, 1)                 513       \n",
      "=================================================================\n",
      "Total params: 3,453,121\n",
      "Trainable params: 3,453,121\n",
      "Non-trainable params: 0\n",
      "_________________________________________________________________\n"
     ]
    }
   ],
   "source": [
    "model.summary()"
   ]
  },
  {
   "cell_type": "code",
   "execution_count": 21,
   "metadata": {},
   "outputs": [],
   "source": [
    "model.compile(loss='binary_crossentropy', optimizer=optimizers.RMSprop(lr=1e-4), metrics = ['acc'])"
   ]
  },
  {
   "cell_type": "code",
   "execution_count": 22,
   "metadata": {},
   "outputs": [],
   "source": [
    "train_datagen = ImageDataGenerator(rescale = 1./255,\n",
    "                                  rotation_range=40,\n",
    "                                  width_shift_range=0.2,\n",
    "                                  height_shift_range=0.2,\n",
    "                                  shear_range=0.2,\n",
    "                                  zoom_range=0.2,\n",
    "                                  horizontal_flip=True)\n",
    "val_datagen = ImageDataGenerator(rescale=1./255)"
   ]
  },
  {
   "cell_type": "code",
   "execution_count": 23,
   "metadata": {},
   "outputs": [],
   "source": [
    "train_generator = train_datagen.flow(X_train, y_train, batch_size=batch_size)\n",
    "val_generator = val_datagen.flow(X_val, y_val, batch_size=batch_size)"
   ]
  },
  {
   "cell_type": "code",
   "execution_count": 24,
   "metadata": {},
   "outputs": [
    {
     "name": "stdout",
     "output_type": "stream",
     "text": [
      "WARNING:tensorflow:From <ipython-input-24-ab215a29eb15>:5: Model.fit_generator (from tensorflow.python.keras.engine.training) is deprecated and will be removed in a future version.\n",
      "Instructions for updating:\n",
      "Please use Model.fit, which supports generators.\n",
      "Epoch 1/64\n",
      "25/25 [==============================] - 77s 3s/step - loss: 0.6956 - acc: 0.5200 - val_acc: 0.4896 - val_loss: 0.7037\n",
      "Epoch 2/64\n",
      "25/25 [==============================] - 81s 3s/step - loss: 0.6969 - acc: 0.4913 - val_acc: 0.6615 - val_loss: 0.6827\n",
      "Epoch 3/64\n",
      "25/25 [==============================] - 78s 3s/step - loss: 0.6889 - acc: 0.5125 - val_acc: 0.7188 - val_loss: 0.6697\n",
      "Epoch 4/64\n",
      "25/25 [==============================] - 54s 2s/step - loss: 0.6734 - acc: 0.6050 - val_acc: 0.6354 - val_loss: 0.6549\n",
      "Epoch 5/64\n",
      "25/25 [==============================] - 70s 3s/step - loss: 0.6541 - acc: 0.6150 - val_acc: 0.4896 - val_loss: 0.6568\n",
      "Epoch 6/64\n",
      "25/25 [==============================] - 72s 3s/step - loss: 0.6297 - acc: 0.6212 - val_acc: 0.6875 - val_loss: 0.5653\n",
      "Epoch 7/64\n",
      "25/25 [==============================] - 100s 4s/step - loss: 0.6037 - acc: 0.6812 - val_acc: 0.6354 - val_loss: 0.5676\n",
      "Epoch 8/64\n",
      "25/25 [==============================] - 51s 2s/step - loss: 0.5637 - acc: 0.7188 - val_acc: 0.5469 - val_loss: 0.7081\n",
      "Epoch 9/64\n",
      "25/25 [==============================] - 53s 2s/step - loss: 0.5539 - acc: 0.7275 - val_acc: 0.8698 - val_loss: 0.4250\n",
      "Epoch 10/64\n",
      "25/25 [==============================] - 51s 2s/step - loss: 0.5199 - acc: 0.7613 - val_acc: 0.8698 - val_loss: 0.4031\n",
      "Epoch 11/64\n",
      "25/25 [==============================] - 56s 2s/step - loss: 0.4963 - acc: 0.7688 - val_acc: 0.7448 - val_loss: 0.5303\n",
      "Epoch 12/64\n",
      "25/25 [==============================] - 57s 2s/step - loss: 0.4820 - acc: 0.7725 - val_acc: 0.8073 - val_loss: 0.4031\n",
      "Epoch 13/64\n",
      "25/25 [==============================] - 95s 4s/step - loss: 0.4687 - acc: 0.7825 - val_acc: 0.8594 - val_loss: 0.3612\n",
      "Epoch 14/64\n",
      "25/25 [==============================] - 81s 3s/step - loss: 0.4303 - acc: 0.8112 - val_acc: 0.7917 - val_loss: 0.4520\n",
      "Epoch 15/64\n",
      "25/25 [==============================] - 83s 3s/step - loss: 0.4221 - acc: 0.8025 - val_acc: 0.6042 - val_loss: 0.8686\n",
      "Epoch 16/64\n",
      "25/25 [==============================] - 70s 3s/step - loss: 0.4204 - acc: 0.8075 - val_acc: 0.7917 - val_loss: 0.3736\n",
      "Epoch 17/64\n",
      "25/25 [==============================] - 88s 4s/step - loss: 0.3975 - acc: 0.8213 - val_acc: 0.7448 - val_loss: 0.4179\n",
      "Epoch 18/64\n",
      "25/25 [==============================] - 68s 3s/step - loss: 0.3924 - acc: 0.8250 - val_acc: 0.5312 - val_loss: 1.3084\n",
      "Epoch 19/64\n",
      "25/25 [==============================] - 56s 2s/step - loss: 0.3907 - acc: 0.8138 - val_acc: 0.8542 - val_loss: 0.3324\n",
      "Epoch 20/64\n",
      "25/25 [==============================] - 59s 2s/step - loss: 0.3710 - acc: 0.8350 - val_acc: 0.8750 - val_loss: 0.2807\n",
      "Epoch 21/64\n",
      "25/25 [==============================] - 61s 2s/step - loss: 0.3745 - acc: 0.8375 - val_acc: 0.8958 - val_loss: 0.2825\n",
      "Epoch 22/64\n",
      "25/25 [==============================] - 64s 3s/step - loss: 0.3437 - acc: 0.8475 - val_acc: 0.8802 - val_loss: 0.3404\n",
      "Epoch 23/64\n",
      "25/25 [==============================] - 116s 5s/step - loss: 0.3380 - acc: 0.8525 - val_acc: 0.7344 - val_loss: 0.4787\n",
      "Epoch 24/64\n",
      "25/25 [==============================] - 95s 4s/step - loss: 0.3611 - acc: 0.8388 - val_acc: 0.8750 - val_loss: 0.3012\n",
      "Epoch 25/64\n",
      "25/25 [==============================] - 89s 4s/step - loss: 0.3505 - acc: 0.8550 - val_acc: 0.6354 - val_loss: 0.9502\n",
      "Epoch 26/64\n",
      "25/25 [==============================] - 106s 4s/step - loss: 0.3261 - acc: 0.8475 - val_acc: 0.8490 - val_loss: 0.3829\n",
      "Epoch 27/64\n",
      "25/25 [==============================] - 97s 4s/step - loss: 0.3218 - acc: 0.8587 - val_acc: 0.7760 - val_loss: 0.4069\n",
      "Epoch 28/64\n",
      "25/25 [==============================] - 97s 4s/step - loss: 0.3160 - acc: 0.8800 - val_acc: 0.7708 - val_loss: 0.4076\n",
      "Epoch 29/64\n",
      "25/25 [==============================] - 85s 3s/step - loss: 0.3287 - acc: 0.8562 - val_acc: 0.7760 - val_loss: 0.4066\n",
      "Epoch 30/64\n",
      "25/25 [==============================] - 86s 3s/step - loss: 0.3200 - acc: 0.8687 - val_acc: 0.7604 - val_loss: 0.4795\n",
      "Epoch 31/64\n",
      "25/25 [==============================] - 90s 4s/step - loss: 0.2948 - acc: 0.8725 - val_acc: 0.8490 - val_loss: 0.3715\n",
      "Epoch 32/64\n",
      "25/25 [==============================] - 99s 4s/step - loss: 0.2821 - acc: 0.8888 - val_acc: 0.5990 - val_loss: 1.2007\n",
      "Epoch 33/64\n",
      "25/25 [==============================] - 68s 3s/step - loss: 0.3164 - acc: 0.8675 - val_acc: 0.8490 - val_loss: 0.3836\n",
      "Epoch 34/64\n",
      "25/25 [==============================] - 54s 2s/step - loss: 0.3172 - acc: 0.8625 - val_acc: 0.8281 - val_loss: 0.3171\n",
      "Epoch 35/64\n",
      "25/25 [==============================] - 53s 2s/step - loss: 0.2910 - acc: 0.8750 - val_acc: 0.7292 - val_loss: 0.6104\n",
      "Epoch 36/64\n",
      "25/25 [==============================] - 53s 2s/step - loss: 0.2854 - acc: 0.8825 - val_acc: 0.7344 - val_loss: 0.6128\n",
      "Epoch 37/64\n",
      "25/25 [==============================] - 53s 2s/step - loss: 0.2966 - acc: 0.8687 - val_acc: 0.5938 - val_loss: 1.3120\n",
      "Epoch 38/64\n",
      "25/25 [==============================] - 60s 2s/step - loss: 0.3157 - acc: 0.8600 - val_acc: 0.6562 - val_loss: 0.8799\n",
      "Epoch 39/64\n",
      "25/25 [==============================] - 71s 3s/step - loss: 0.2748 - acc: 0.8813 - val_acc: 0.7292 - val_loss: 0.6155\n",
      "Epoch 40/64\n",
      "25/25 [==============================] - 68s 3s/step - loss: 0.3130 - acc: 0.8788 - val_acc: 0.7344 - val_loss: 0.5951\n",
      "Epoch 41/64\n",
      "25/25 [==============================] - 69s 3s/step - loss: 0.2842 - acc: 0.8763 - val_acc: 0.8906 - val_loss: 0.3001\n",
      "Epoch 42/64\n",
      "25/25 [==============================] - 72s 3s/step - loss: 0.2722 - acc: 0.8750 - val_acc: 0.7396 - val_loss: 0.5553\n",
      "Epoch 43/64\n",
      "25/25 [==============================] - 69s 3s/step - loss: 0.2989 - acc: 0.8625 - val_acc: 0.7031 - val_loss: 0.6486\n",
      "Epoch 44/64\n",
      "25/25 [==============================] - 78s 3s/step - loss: 0.2847 - acc: 0.8675 - val_acc: 0.7500 - val_loss: 0.5490\n",
      "Epoch 45/64\n",
      "25/25 [==============================] - 111s 4s/step - loss: 0.2907 - acc: 0.8637 - val_acc: 0.6875 - val_loss: 0.7311\n",
      "Epoch 46/64\n",
      "25/25 [==============================] - 109s 4s/step - loss: 0.2903 - acc: 0.8712 - val_acc: 0.7240 - val_loss: 0.6237\n",
      "Epoch 47/64\n",
      "25/25 [==============================] - 79s 3s/step - loss: 0.2541 - acc: 0.8963 - val_acc: 0.6562 - val_loss: 0.9507\n",
      "Epoch 48/64\n",
      "25/25 [==============================] - 81s 3s/step - loss: 0.2772 - acc: 0.8850 - val_acc: 0.6354 - val_loss: 1.0357\n",
      "Epoch 49/64\n",
      "25/25 [==============================] - 81s 3s/step - loss: 0.2601 - acc: 0.8888 - val_acc: 0.5625 - val_loss: 1.4913\n",
      "Epoch 50/64\n",
      "25/25 [==============================] - 81s 3s/step - loss: 0.2669 - acc: 0.8863 - val_acc: 0.6615 - val_loss: 0.9190\n",
      "Epoch 51/64\n",
      "25/25 [==============================] - 86s 3s/step - loss: 0.2630 - acc: 0.8913 - val_acc: 0.8385 - val_loss: 0.3493\n",
      "Epoch 52/64\n",
      "25/25 [==============================] - 82s 3s/step - loss: 0.2638 - acc: 0.8800 - val_acc: 0.6302 - val_loss: 1.0776\n",
      "Epoch 53/64\n",
      "25/25 [==============================] - 86s 3s/step - loss: 0.2297 - acc: 0.9000 - val_acc: 0.9062 - val_loss: 0.2892\n",
      "Epoch 54/64\n",
      "25/25 [==============================] - 84s 3s/step - loss: 0.2703 - acc: 0.8800 - val_acc: 0.6667 - val_loss: 0.8974\n",
      "Epoch 55/64\n",
      "25/25 [==============================] - 84s 3s/step - loss: 0.2551 - acc: 0.8813 - val_acc: 0.6927 - val_loss: 0.6764\n",
      "Epoch 56/64\n",
      "25/25 [==============================] - 84s 3s/step - loss: 0.2593 - acc: 0.8950 - val_acc: 0.8698 - val_loss: 0.2771\n",
      "Epoch 57/64\n",
      "25/25 [==============================] - 86s 3s/step - loss: 0.2509 - acc: 0.8938 - val_acc: 0.7344 - val_loss: 0.6239\n",
      "Epoch 58/64\n",
      "25/25 [==============================] - 86s 3s/step - loss: 0.2432 - acc: 0.9025 - val_acc: 0.7396 - val_loss: 0.6193\n",
      "Epoch 59/64\n",
      "25/25 [==============================] - 80s 3s/step - loss: 0.2628 - acc: 0.8900 - val_acc: 0.8646 - val_loss: 0.3042\n",
      "Epoch 60/64\n",
      "25/25 [==============================] - 68s 3s/step - loss: 0.2424 - acc: 0.9038 - val_acc: 0.8958 - val_loss: 0.3027\n",
      "Epoch 61/64\n"
     ]
    },
    {
     "name": "stdout",
     "output_type": "stream",
     "text": [
      "25/25 [==============================] - 104s 4s/step - loss: 0.2550 - acc: 0.8913 - val_acc: 0.9010 - val_loss: 0.2876\n",
      "Epoch 62/64\n",
      "25/25 [==============================] - 98s 4s/step - loss: 0.2343 - acc: 0.9038 - val_acc: 0.9219 - val_loss: 0.2051\n",
      "Epoch 63/64\n",
      "25/25 [==============================] - 51s 2s/step - loss: 0.2608 - acc: 0.8838 - val_acc: 0.6510 - val_loss: 1.0170\n",
      "Epoch 64/64\n",
      "25/25 [==============================] - 50s 2s/step - loss: 0.2419 - acc: 0.8975 - val_acc: 0.8385 - val_loss: 0.3954\n"
     ]
    }
   ],
   "source": [
    "history = model.fit_generator(train_generator,\n",
    "                             steps_per_epoch=ntrain // batch_size,\n",
    "                             epochs=64,\n",
    "                             validation_data=val_generator,\n",
    "                             validation_steps=nval // batch_size)"
   ]
  },
  {
   "cell_type": "code",
   "execution_count": 25,
   "metadata": {},
   "outputs": [],
   "source": [
    "model.save_weights('/home/waqar/Documents/model_wieghts.h5')\n",
    "model.save('/home/waqar/Documents/model_keras.h5')"
   ]
  },
  {
   "cell_type": "code",
   "execution_count": 26,
   "metadata": {},
   "outputs": [
    {
     "data": {
      "text/plain": [
       "<Figure size 432x288 with 0 Axes>"
      ]
     },
     "execution_count": 26,
     "metadata": {},
     "output_type": "execute_result"
    },
    {
     "data": {
      "image/png": "[encoded data removed]",
      "text/plain": [
       "<Figure size 432x288 with 1 Axes>"
      ]
     },
     "metadata": {
      "needs_background": "light"
     },
     "output_type": "display_data"
    },
    {
     "data": {
      "text/plain": [
       "<Figure size 432x288 with 0 Axes>"
      ]
     },
     "metadata": {},
     "output_type": "display_data"
    }
   ],
   "source": [
    "acc = history.history['acc']\n",
    "val_acc = history.history['val_acc']\n",
    "loss = history.history['loss']\n",
    "val_loss = history.history['val_loss']\n",
    "\n",
    "epochs = range(1, len(acc)+ 1)\n",
    "\n",
    "plt.plot(epochs, acc, 'b', label='Training accuracy')\n",
    "plt.plot(epochs, val_acc, 'r', label='Validation accuracy')\n",
    "plt.title('Training and validation accuracy')\n",
    "plt.legend()\n",
    "plt.figure()\n"
   ]
  },
  {
   "cell_type": "code",
   "execution_count": 27,
   "metadata": {},
   "outputs": [
    {
     "data": {
      "image/png": "[encoded data removed]",
      "text/plain": [
       "<Figure size 432x288 with 1 Axes>"
      ]
     },
     "metadata": {
      "needs_background": "light"
     },
     "output_type": "display_data"
    }
   ],
   "source": [
    "plt.plot(epochs, loss, 'b', label='Training loss')\n",
    "plt.plot(epochs, val_loss, 'r', label='Validation loss')\n",
    "plt.title('Training and Validation Loss')\n",
    "plt.legend()\n",
    "plt.show()\n"
   ]
  },
  {
   "cell_type": "code",
   "execution_count": null,
   "metadata": {},
   "outputs": [],
   "source": []
  }
 ],
 "metadata": {
  "kernelspec": {
   "display_name": "Python 3",
   "language": "python",
   "name": "python3"
  },
  "language_info": {
   "codemirror_mode": {
    "name": "ipython",
    "version": 3
   },
   "file_extension": ".py",
   "mimetype": "text/x-python",
   "name": "python",
   "nbconvert_exporter": "python",
   "pygments_lexer": "ipython3",
   "version": "3.5.2"
  }
 },
 "nbformat": 4,
 "nbformat_minor": 4
}
